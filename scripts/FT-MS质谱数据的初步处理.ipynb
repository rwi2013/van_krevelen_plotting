{
 "cells": [
  {
   "cell_type": "markdown",
   "metadata": {},
   "source": [
    "# FT-MS质谱数据的初步处理\n",
    "\n",
    "本笔记本将原论坛脚本（单行、面向 ipynb）整理为结构化的 Jupyter Notebook。\n",
    "- 保留并补充了原有中文注释；\n",
    "- 数据文件位于 `data/` 目录，使用 Excel (`ICRMS-1.xlsx` 至 `ICRMS-4.xlsx`)；\n",
    "- 使用 `pykrev` 完成元素计数、比值、DBE、芳香性指数、Kendrick 质量缺陷、Van Krevelen 图等分析。\n"
   ]
  },
  {
   "cell_type": "markdown",
   "metadata": {},
   "source": [
    "## 1. 导入依赖\n",
    "确保已经在项目根目录创建了虚拟环境 `.venv` 并安装了依赖（已在 README 提供指令）。\n"
   ]
  },
  {
   "cell_type": "code",
   "execution_count": null,
   "metadata": {},
   "outputs": [],
   "source": [
    "# 首先导入我们需要的库\n",
    "import numpy as np\n",
    "import pandas as pd\n",
    "import matplotlib.pyplot as plt\n",
    "\n",
    "import sys, types\n",
    "# # 构造一个假模块 numpy.lib.function_base，只提供 pykrev 需要的对象\n",
    "# mod = types.ModuleType('numpy.lib.function_base')\n",
    "# mod.rot90 = np.rot90\n",
    "# mod._rot90_dispatcher = lambda m, k=1, axes=(0,1): (m,)  # 占位即可\n",
    "# sys.modules['numpy.lib.function_base'] = mod\n",
    "# import pykrev as pk\n",
    "\n",
    "# 安全补丁：只在真实的 numpy.lib.function_base 上补缺失的符号\n",
    "import numpy.lib.function_base as nlfb\n",
    "    # 某些旧代码引用了私有的 _rot90_dispatcher；新版本可能没有\n",
    "if not hasattr(nlfb, \"_rot90_dispatcher\"):\n",
    "    def _rot90_dispatcher(m, k=1, axes=(0,1)):\n",
    "        return (m,)\n",
    "    nlfb._rot90_dispatcher = _rot90_dispatcher\n",
    "# 理论上 rot90 仍在 numpy 顶层与 numpy.lib.function_base；但稳妥起见：\n",
    "if not hasattr(nlfb, \"rot90\"):\n",
    "    nlfb.rot90 = np.rot90\n",
    "import pykrev as pk\n",
    "\n",
    "\n",
    "from pathlib import Path\n",
    "\n",
    "# 一些显示设置（可选）\n",
    "pd.set_option('display.max_rows', 10)\n",
    "pd.set_option('display.max_columns', None)\n",
    "plt.rcParams['figure.dpi'] = 120\n"
   ]
  },
  {
   "cell_type": "markdown",
   "metadata": {},
   "source": [
    "## 2. 读取数据（来自 data/ 目录的 Excel 文件）\n",
    "原脚本使用 `pk.read_csv('F:/example_A.csv')`，本项目数据存放在 `data/` 目录下的 Excel 文件中。\n",
    "文件列名：`Formula`, `m/z`, `Intensity`。为与 `pykrev` 习惯统一，这里转换为小写：`formula`, `mz`, `intensity`。\n"
   ]
  },
  {
   "cell_type": "code",
   "execution_count": null,
   "id": "16f4cb2b",
   "metadata": {},
   "outputs": [],
   "source": [
    "from pathlib import Path\n",
    "import os\n",
    "print(\"cwd =\", Path.cwd())\n",
    "print(\"cwd(list) =\", [p.name for p in Path.cwd().iterdir()][:20])\n",
    "print(\"data exists?\", Path(\"data\").exists(), \"is_dir?\", Path(\"data\").is_dir())\n",
    "if Path(\"data\").exists():\n",
    "    print(\"data list =\", [repr(p.name) for p in Path(\"data\").iterdir()])\n"
   ]
  },
  {
   "cell_type": "code",
   "execution_count": null,
   "id": "113a8917",
   "metadata": {},
   "outputs": [],
   "source": [
    "os.chdir(\"/home/rwi2013\")"
   ]
  },
  {
   "cell_type": "code",
   "execution_count": null,
   "id": "380b9fd9",
   "metadata": {},
   "outputs": [],
   "source": [
    "# 1) 先从 Excel 转成 CSV（确保列名正好是 formula, intensity, mz）\n",
    "xlsx = Path(\"data/ICRMS-1.xlsx\")\n",
    "df = pd.read_excel(xlsx)\n",
    "df = df.rename(columns={\n",
    "    'Formula':'formula', 'FORMULA':'formula',\n",
    "    'Intensity':'intensity', 'INTENSITY':'intensity',\n",
    "    'mz':'mz', 'm/z':'mz', 'MZ':'mz'\n",
    "})\n",
    "df[['formula','intensity','mz']].to_csv(xlsx.with_suffix(\".csv\"), index=False)\n",
    "\n",
    "# 2) 用 pykrev 读 CSV（会得到 msTuple）\n",
    "A = pk.read_csv(xlsx.with_suffix(\".csv\"), column_headers=True)\n",
    "print(type(A))       # -> <class 'pykrev.formula.msTuple.msTuple'>\n",
    "A.summary()          # 现在能用了\n",
    "print(type(A.formula))\n",
    "print(type(A.intensity))"
   ]
  },
  {
   "cell_type": "code",
   "execution_count": null,
   "id": "504e9348",
   "metadata": {},
   "outputs": [],
   "source": [
    "#如果需要根据mz或者intensity进行过滤，运行如下代码\n",
    "#A = A.filter_mz(100,1000)\n",
    "#A = A.filter_intensity(1e6,1e7)"
   ]
  },
  {
   "cell_type": "code",
   "execution_count": null,
   "id": "19dba52e",
   "metadata": {},
   "outputs": [],
   "source": [
    "#计算每个化学式中C、H、N、O、P、S、Cl和F的数量\n",
    "elementCounts = pk.element_counts(A)\n",
    "print(elementCounts)"
   ]
  },
  {
   "cell_type": "code",
   "execution_count": null,
   "id": "c5507b90",
   "metadata": {},
   "outputs": [],
   "source": [
    "# HC、OH、OC 比\n",
    "elementRatios = pk.element_ratios(A, ratios=['HC','OH','OC'])\n",
    "\n",
    "# 双键等效值 DBE\n",
    "dbe = pk.double_bond_equivalent(A)\n",
    "\n",
    "# 芳香性指数（rAI）\n",
    "ai = pk.aromaticity_index(A, index_type='rAI')\n",
    "\n",
    "# 碳的标称氧化态（NOSC）\n",
    "nosc = pk.nominal_oxidation_state(A)"
   ]
  },
  {
   "cell_type": "code",
   "execution_count": null,
   "id": "b93efc16",
   "metadata": {},
   "outputs": [],
   "source": [
    "# 标称质量 / 平均质量 / 精确单同位素质量\n",
    "nominalMass = pk.calculate_mass(A, method='nominal')\n",
    "averageMass = pk.calculate_mass(A, method='average')\n",
    "monoisotopicMass = pk.calculate_mass(A, method='monoisotopic')\n",
    "\n",
    "# 去质子化分析物的预期质量（示例：负一价、质子化修正）\n",
    "massExpected = pk.calculate_mass(A, method='monoisotopic', ion_charge=-1, protonated=True)\n",
    "\n",
    "# 相对质量误差（ppm），单位为ppm\n",
    "# A 如果是 msTuple，通常有 A.mz；若没有，就改为你实际的 m/z 序列\n",
    "massError = (massExpected - A.mz) / A.mz * 1e6\n",
    "display(pd.Series(massError).head())\n"
   ]
  },
  {
   "cell_type": "code",
   "execution_count": null,
   "id": "dd9ef38c",
   "metadata": {},
   "outputs": [],
   "source": [
    "#计算一组校准的m/z值的Kendrick质量和Kendrick质量缺陷。\n",
    "kendrickMass, kendrickMassDefect = pk.kendrick_mass_defect(A, base=['CH2'], rounding='even')"
   ]
  },
  {
   "cell_type": "code",
   "execution_count": null,
   "id": "b27bc3c6",
   "metadata": {},
   "outputs": [],
   "source": [
    "fig, ax = pk.van_krevelen_plot(A, y_ratio='HC', c=dbe, s=7, cmap='plasma')\n",
    "# 取出散点 artist 以挂接 colorbar（collections[0] 通常是散点）\n",
    "scatter = ax.collections[0]\n",
    "cbar = plt.colorbar(scatter, ax=ax)\n",
    "cbar.set_label('Double Bond Equivalence (DBE)')\n",
    "plt.show()\n"
   ]
  },
  {
   "cell_type": "code",
   "execution_count": null,
   "id": "b86d4f9b",
   "metadata": {},
   "outputs": [],
   "source": [
    "import matplotlib.pyplot as plt\n",
    "\n",
    "# 5A. 密度着色（Kernel Density）\n",
    "plt.figure()\n",
    "pk.van_krevelen_plot(A, c='density', s=7)\n",
    "plt.colorbar().set_label('Kernel Density')\n",
    "plt.grid(False)\n",
    "plt.show()\n",
    "\n",
    "# 5B. 直方图热图（等宽分箱）\n",
    "plt.figure()\n",
    "fig, ax, d_index = pk.van_krevelen_histogram(A, bins=[10, 10], cmap='viridis')\n",
    "plt.colorbar().set_label('Counts')\n",
    "plt.show()\n",
    "\n",
    "# 5C. 直方图热图（自定义边界）\n",
    "import numpy as np\n",
    "plt.figure()\n",
    "fig, ax, d_index = pk.van_krevelen_histogram(\n",
    "    A,\n",
    "    bins=[np.linspace(0, 1, 5), np.linspace(0, 2, 5)],\n",
    "    cmap='cividis'\n",
    ")\n",
    "plt.colorbar().set_label('Counts')\n",
    "plt.show()\n"
   ]
  },
  {
   "cell_type": "code",
   "execution_count": null,
   "id": "73980dd8",
   "metadata": {},
   "outputs": [],
   "source": [
    "plt.figure(figsize=(10, 7))\n",
    "fig, ax, (kendrickMass, kendrickMassDefect) = pk.kendrick_mass_defect_plot(\n",
    "    A, base='CHON', rounding='ceil', s=3, c=ai\n",
    ")\n",
    "plt.colorbar().set_label('Aromaticity Index')\n",
    "plt.xlim([0, 1000])\n",
    "plt.show()"
   ]
  },
  {
   "cell_type": "code",
   "execution_count": null,
   "id": "90e610e4",
   "metadata": {},
   "outputs": [],
   "source": [
    "plt.figure()\n",
    "fig, ax, (mean, median, sigma) = pk.atomic_class_plot(\n",
    "    A, element='O', color='b', summary_statistics=True, bins=range(0, 33)\n",
    ")\n",
    "plt.show()"
   ]
  },
  {
   "cell_type": "code",
   "execution_count": null,
   "id": "47fb17a2",
   "metadata": {},
   "outputs": [],
   "source": [
    "plt.figure()\n",
    "fig, ax, (compounds, counts) = pk.compound_class_plot(A, color='g', method='MSCC')\n",
    "plt.show()\n"
   ]
  },
  {
   "cell_type": "code",
   "execution_count": null,
   "id": "c54c34cf",
   "metadata": {},
   "outputs": [],
   "source": [
    "import matplotlib.pyplot as plt\n",
    "\n",
    "# 9A. 单同位素质量直方图（含 KDE）\n",
    "plt.figure()\n",
    "fig, ax, (mean, median, sigma) = pk.mass_histogram(\n",
    "    A,\n",
    "    method='monoisotopic',\n",
    "    bin_width=20,\n",
    "    summary_statistics=True,\n",
    "    color='blue',\n",
    "    alpha=0.5,\n",
    "    kde=True,\n",
    "    kde_color='blue',\n",
    "    density=False\n",
    ")\n",
    "plt.xlabel('Monoisotopic atomic mass (Da)')\n",
    "plt.show()\n",
    "\n",
    "# 9B. 另一种配置（仅 KDE）\n",
    "plt.figure()\n",
    "fig, ax, (mean, median, sigma) = pk.mass_histogram(\n",
    "    A,\n",
    "    method='me',\n",
    "    kde=True,\n",
    "    hist=False,\n",
    "    kde_color='red',\n",
    "    summary_statistics=True,\n",
    "    deprotonated=True\n",
    ")\n",
    "plt.show()\n"
   ]
  },
  {
   "cell_type": "code",
   "execution_count": null,
   "id": "9ff6f24d",
   "metadata": {},
   "outputs": [],
   "source": [
    "fig, ax1, ax2 = pk.mass_spectrum(\n",
    "    A,\n",
    "    method='mz',          # 关键改这里，用 measured m/z\n",
    "    logTransform=False,\n",
    "    stepSize=4,           # 这个小数位随便，mz 本身是唯一的\n",
    "    lineColor='g',\n",
    "    lineWidth=1.2,\n",
    "    invertedAxis=massError   # 如果 massError 是基于 A.mz 算的，就能对齐\n",
    ")\n",
    "plt.show()"
   ]
  },
  {
   "cell_type": "code",
   "execution_count": null,
   "id": "cf9a569f",
   "metadata": {},
   "outputs": [],
   "source": [
    "plt.figure()\n",
    "pk.spiral_plot(A)\n",
    "plt.show()\n",
    "\n",
    "plt.figure()\n",
    "pk.spiral_plot(A, colour=dbe, mass_order='descending', theta=9999)\n",
    "plt.show()\n"
   ]
  },
  {
   "cell_type": "code",
   "execution_count": null,
   "id": "0e4a2c89",
   "metadata": {},
   "outputs": [],
   "source": [
    "A_diversity = pk.diversity_indices(A, verbose=True, indices=['SW','DBE','GS'])\n",
    "\n",
    "# 香农-维纳（丰度多样性）\n",
    "A_diversity['D_a_SW']\n",
    "\n",
    "# 功能多样性（以 DBE 度量）\n",
    "A_diversity['D_f_DBE']\n",
    "\n",
    "# 基尼-辛普森（均匀度）\n",
    "A_diversity['D_a_GS']\n"
   ]
  }
 ],
 "metadata": {
  "kernelspec": {
   "display_name": ".venv",
   "language": "python",
   "name": "python3"
  },
  "language_info": {
   "codemirror_mode": {
    "name": "ipython",
    "version": 3
   },
   "file_extension": ".py",
   "mimetype": "text/x-python",
   "name": "python",
   "nbconvert_exporter": "python",
   "pygments_lexer": "ipython3",
   "version": "3.12.3"
  }
 },
 "nbformat": 4,
 "nbformat_minor": 5
}
